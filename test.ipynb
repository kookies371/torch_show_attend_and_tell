{
 "cells": [
  {
   "cell_type": "code",
   "execution_count": 2,
   "metadata": {},
   "outputs": [
    {
     "data": {
      "text/plain": [
       "1"
      ]
     },
     "execution_count": 2,
     "metadata": {},
     "output_type": "execute_result"
    }
   ],
   "source": [
    "max([1])"
   ]
  },
  {
   "cell_type": "code",
   "execution_count": 15,
   "metadata": {},
   "outputs": [
    {
     "name": "stdout",
     "output_type": "stream",
     "text": [
      "Counter({'hello': 2, 'hi': 1})\n",
      "Counter({'bye': 1})\n",
      "Counter({'hello': 2, 'hi': 1, 'bye': -1})\n"
     ]
    }
   ],
   "source": [
    "from collections import Counter\n",
    "\n",
    "tokens = 'hello hello hi'.split(' ')\n",
    "tokens2 = 'bye'.split(' ')\n",
    "counter = Counter(tokens)\n",
    "counter2 = Counter(tokens2)\n",
    "\n",
    "print(counter)\n",
    "print(counter2)\n",
    "\n",
    "counter.subtract(counter2)\n",
    "print(counter)\n"
   ]
  },
  {
   "cell_type": "code",
   "execution_count": 17,
   "metadata": {},
   "outputs": [
    {
     "data": {
      "text/plain": [
       "tensor([[0.2689, 0.7311],\n",
       "        [0.2689, 0.7311]])"
      ]
     },
     "execution_count": 17,
     "metadata": {},
     "output_type": "execute_result"
    }
   ],
   "source": [
    "import torch\n",
    "a = torch.FloatTensor([[1, 2], [3, 4]])\n",
    "\n",
    "a.softmax(dim=1)"
   ]
  },
  {
   "cell_type": "code",
   "execution_count": 29,
   "metadata": {},
   "outputs": [
    {
     "name": "stdout",
     "output_type": "stream",
     "text": [
      "tensor([[1, 2]])\n",
      "tensor([[[0, 1, 0, 0, 0, 0, 0, 0, 0, 0],\n",
      "         [0, 0, 1, 0, 0, 0, 0, 0, 0, 0]]])\n",
      "torch.Size([1, 2, 10])\n"
     ]
    }
   ],
   "source": [
    "import torch.nn.functional as F\n",
    "\n",
    "idx = torch.zeros([1, 2], dtype=torch.long)\n",
    "idx[0, 0] = 1\n",
    "idx[0, 1] = 2\n",
    "print(idx)\n",
    "\n",
    "a = F.one_hot(idx, num_classes = 10)\n",
    "print(a)\n",
    "print(a.shape)"
   ]
  },
  {
   "cell_type": "code",
   "execution_count": 24,
   "metadata": {},
   "outputs": [
    {
     "name": "stderr",
     "output_type": "stream",
     "text": [
      " 48%|████▊     | 202654/420000 [00:01<00:01, 143006.63it/s]"
     ]
    },
    {
     "name": "stdout",
     "output_type": "stream",
     "text": [
      "56\n"
     ]
    },
    {
     "name": "stderr",
     "output_type": "stream",
     "text": [
      "\n"
     ]
    }
   ],
   "source": [
    "import json\n",
    "from torchtext.data import get_tokenizer\n",
    "from tqdm import tqdm\n",
    "\n",
    "with open(\"../torch_datasets/annotations/captions_val2014.json\", \"r\") as f:\n",
    "    annotaion = json.load(f)\n",
    "\n",
    "tokenizer = get_tokenizer(\"basic_english\")\n",
    "max_cap_len = 0\n",
    "for i in tqdm(range(420000)):\n",
    "    try:\n",
    "        caption = annotaion['annotations'][i]['caption']\n",
    "        tokens = tokenizer(caption)\n",
    "        cap_len = len(tokens)\n",
    "        max_cap_len = max_cap_len if max_cap_len > cap_len else cap_len\n",
    "    except:\n",
    "        break\n",
    "\n",
    "print(max_cap_len)\n",
    "# max_cap_len is 57!! (train 57, val 56)"
   ]
  },
  {
   "cell_type": "code",
   "execution_count": 8,
   "metadata": {},
   "outputs": [
    {
     "name": "stdout",
     "output_type": "stream",
     "text": [
      "loading annotations into memory...\n",
      "Done (t=0.35s)\n",
      "creating index...\n",
      "index created!\n",
      "loading annotations into memory...\n",
      "Done (t=0.18s)\n",
      "creating index...\n",
      "index created!\n"
     ]
    },
    {
     "name": "stderr",
     "output_type": "stream",
     "text": [
      "100%|██████████| 82783/82783 [10:26<00:00, 132.11it/s]"
     ]
    },
    {
     "name": "stdout",
     "output_type": "stream",
     "text": [
      "7\n"
     ]
    },
    {
     "name": "stderr",
     "output_type": "stream",
     "text": [
      "\n"
     ]
    }
   ],
   "source": [
    "import torchvision.datasets as datasets\n",
    "import torchvision.transforms as transforms\n",
    "\n",
    "from tqdm import tqdm\n",
    "\n",
    "# prepare datasets\n",
    "train_dataset = datasets.CocoCaptions(\n",
    "    root=\"../torch_datasets/train2014\",\n",
    "    annFile=\"../torch_datasets/annotations/captions_train2014.json\",\n",
    "    transform=transforms.ToTensor(),\n",
    ")\n",
    "val_dataset = datasets.CocoCaptions(\n",
    "    root=\"../torch_datasets/val2014\",\n",
    "    annFile=\"../torch_datasets/annotations/captions_val2014.json\",\n",
    "    transform=transforms.ToTensor(),\n",
    ")\n",
    "\n",
    "max_cpi = 0\n",
    "for i, (img, captions) in enumerate(tqdm(train_dataset)):\n",
    "    cpi = len(captions)\n",
    "    max_cpi = cpi if cpi > max_cpi else max_cpi\n",
    "\n",
    "print(max_cpi) # max_cpi = 7"
   ]
  },
  {
   "cell_type": "code",
   "execution_count": 1,
   "metadata": {},
   "outputs": [
    {
     "name": "stderr",
     "output_type": "stream",
     "text": [
      "/home/kookies371/miniconda3/envs/torch/lib/python3.9/site-packages/tqdm/auto.py:22: TqdmWarning: IProgress not found. Please update jupyter and ipywidgets. See https://ipywidgets.readthedocs.io/en/stable/user_install.html\n",
      "  from .autonotebook import tqdm as notebook_tqdm\n"
     ]
    },
    {
     "name": "stdout",
     "output_type": "stream",
     "text": [
      "loading annotations into memory...\n",
      "Done (t=0.37s)\n",
      "creating index...\n",
      "index created!\n",
      "Dataset CocoCaptions\n",
      "    Number of datapoints: 82783\n",
      "    Root location: ../torch_datasets/train2014\n",
      "    StandardTransform\n",
      "Transform: ToTensor()\n",
      "hello\n",
      "mother fucker\n"
     ]
    }
   ],
   "source": [
    "import torchvision.datasets as datasets\n",
    "import torchvision.transforms as transforms\n",
    "\n",
    "train_dataset = datasets.CocoCaptions(\n",
    "    root=\"../torch_datasets/train2014\",\n",
    "    annFile=\"../torch_datasets/annotations/captions_train2014.json\",\n",
    "    transform=transforms.ToTensor(),\n",
    ")\n",
    "\n",
    "train_dataset.test_attribute = 'hello'\n",
    "train_dataset.eka = \"mother fucker\"\n",
    "\n",
    "print(train_dataset)\n",
    "print(train_dataset.test_attribute)\n",
    "print(train_dataset.eka)"
   ]
  },
  {
   "cell_type": "code",
   "execution_count": 4,
   "metadata": {},
   "outputs": [
    {
     "name": "stdout",
     "output_type": "stream",
     "text": [
      "a\n",
      "b\n",
      "c\n"
     ]
    }
   ],
   "source": [
    "class AAA():\n",
    "    def __init__(self):\n",
    "        self.a = 'a'\n",
    "        self.b = 'b'\n",
    "\n",
    "aaa = AAA()\n",
    "print(aaa.a)\n",
    "print(aaa.b)\n",
    "\n",
    "aaa.c = 'c'\n",
    "print(aaa.c)"
   ]
  },
  {
   "cell_type": "code",
   "execution_count": 4,
   "metadata": {},
   "outputs": [
    {
     "name": "stdout",
     "output_type": "stream",
     "text": [
      "loading annotations into memory...\n",
      "Done (t=0.35s)\n",
      "creating index...\n",
      "index created!\n",
      "['Closeup of bins of food that include broccoli and bread.', 'A meal is presented in brightly colored plastic trays.', 'there are containers filled with different kinds of foods', 'Colorful dishes holding meat, vegetables, fruit, and bread.', 'A bunch of trays that have different food.']\n",
      "['A giraffe eating food from the top of the tree.', 'A giraffe standing up nearby a tree ', 'A giraffe mother with its baby in the forest.', 'Two giraffes standing in a tree filled area.', 'A giraffe standing next to a forest filled with trees.']\n",
      "['A flower vase is sitting on a porch stand.', 'White vase with different colored flowers sitting inside of it. ', 'a white vase with many flowers on a stage', 'A white vase filled with different colored flowers.', 'A vase with red and white flowers outside on a sunny day.']\n",
      "['A zebra grazing on lush green grass in a field.', 'Zebra reaching its head down to ground where grass is. ', 'The zebra is eating grass in the sun.', 'A lone zebra grazing in some green grass.', 'a Zebra grazing on grass in a green open field.']\n"
     ]
    }
   ],
   "source": [
    "from dataset import CustomCOCOCaption\n",
    "import torchvision.transforms as transforms\n",
    "\n",
    "ds = CustomCOCOCaption(    \n",
    "    root=\"../torch_datasets/train2014\",\n",
    "    annFile=\"../torch_datasets/annotations/captions_train2014.json\",\n",
    "    transform=transforms.ToTensor(),\n",
    "    max_cpi = 100,\n",
    "    max_cap_len = 100,\n",
    ")\n",
    "\n",
    "for i, (img, captions) in enumerate(ds):\n",
    "    print(captions)\n",
    "\n",
    "    if i == 3:\n",
    "        break"
   ]
  },
  {
   "cell_type": "code",
   "execution_count": 24,
   "metadata": {},
   "outputs": [
    {
     "name": "stdout",
     "output_type": "stream",
     "text": [
      "loading annotations into memory...\n",
      "Done (t=0.40s)\n",
      "creating index...\n",
      "index created!\n",
      "5\n"
     ]
    }
   ],
   "source": [
    "from dataset import CustomCOCOCaption\n",
    "from torch.utils.data import Dataset, DataLoader\n",
    "import torchvision.transforms as transforms\n",
    "import torch\n",
    "\n",
    "def collate_fn(x):\n",
    "    # x = [(img, captions), ...]\n",
    "    imgs, captionss = [], []\n",
    "    for img, captions in x:\n",
    "        imgs.append(img)\n",
    "        captionss.append(captions)\n",
    "\n",
    "    imgs = torch.stack(imgs, dim=0)\n",
    "    return (imgs, captionss)\n",
    "\n",
    "\n",
    "train_dataset = CustomCOCOCaption(\n",
    "    root=\"../torch_datasets/train2014\",\n",
    "    annFile=\"../torch_datasets/annotations/captions_train2014.json\",\n",
    "    transform=transforms.Compose([\n",
    "        transforms.ToTensor(),\n",
    "        transforms.Resize((640, 640)),\n",
    "    ]),\n",
    ")\n",
    "\n",
    "train_dataloader = DataLoader(\n",
    "    train_dataset,\n",
    "    batch_size=16,\n",
    "    collate_fn=collate_fn,\n",
    ")\n",
    "\n",
    "\n",
    "for i, data in enumerate(train_dataloader):\n",
    "    print(len(data[1][0]))\n",
    "\n",
    "    break"
   ]
  },
  {
   "cell_type": "code",
   "execution_count": 25,
   "metadata": {},
   "outputs": [
    {
     "name": "stdout",
     "output_type": "stream",
     "text": [
      "loading annotations into memory...\n",
      "Done (t=0.42s)\n",
      "creating index...\n",
      "index created!\n",
      "torch.Size([3, 480, 640])\n",
      "torch.Size([3, 426, 640])\n",
      "torch.Size([3, 428, 640])\n",
      "torch.Size([3, 425, 640])\n",
      "torch.Size([3, 640, 481])\n",
      "torch.Size([3, 500, 381])\n",
      "torch.Size([3, 488, 640])\n",
      "torch.Size([3, 640, 480])\n",
      "torch.Size([3, 426, 640])\n",
      "torch.Size([3, 640, 427])\n",
      "torch.Size([3, 375, 500])\n",
      "torch.Size([3, 612, 612])\n",
      "torch.Size([3, 425, 640])\n",
      "torch.Size([3, 640, 512])\n",
      "torch.Size([3, 480, 640])\n",
      "torch.Size([3, 427, 640])\n",
      "torch.Size([3, 427, 640])\n",
      "torch.Size([3, 416, 640])\n",
      "torch.Size([3, 480, 640])\n",
      "torch.Size([3, 640, 416])\n",
      "torch.Size([3, 481, 640])\n",
      "torch.Size([3, 573, 640])\n",
      "torch.Size([3, 640, 480])\n",
      "torch.Size([3, 480, 640])\n",
      "torch.Size([3, 428, 640])\n",
      "torch.Size([3, 640, 480])\n",
      "torch.Size([3, 640, 427])\n",
      "torch.Size([3, 536, 640])\n",
      "torch.Size([3, 480, 640])\n",
      "torch.Size([3, 428, 640])\n",
      "torch.Size([3, 424, 640])\n"
     ]
    }
   ],
   "source": [
    "from dataset import CustomCOCOCaption\n",
    "\n",
    "train_dataset = CustomCOCOCaption(\n",
    "    root=\"../torch_datasets/train2014\",\n",
    "    annFile=\"../torch_datasets/annotations/captions_train2014.json\",\n",
    "    transform=transforms.Compose([\n",
    "        transforms.ToTensor(),\n",
    "    ]),\n",
    ")\n",
    "\n",
    "for i, (img, captions) in enumerate(train_dataset):\n",
    "    print(img.shape)\n",
    "\n",
    "    if i == 30:\n",
    "        break"
   ]
  },
  {
   "cell_type": "code",
   "execution_count": 29,
   "metadata": {},
   "outputs": [
    {
     "ename": "TypeError",
     "evalue": "list expected at most 1 argument, got 3",
     "output_type": "error",
     "traceback": [
      "\u001b[0;31m---------------------------------------------------------------------------\u001b[0m",
      "\u001b[0;31mTypeError\u001b[0m                                 Traceback (most recent call last)",
      "\u001b[1;32m/home/kookies371/workspace/torch_show_attend_and_tell/test.ipynb Cell 12'\u001b[0m in \u001b[0;36m<cell line: 3>\u001b[0;34m()\u001b[0m\n\u001b[1;32m      <a href='vscode-notebook-cell://ssh-remote%2Bncia.snu.ac.kr/home/kookies371/workspace/torch_show_attend_and_tell/test.ipynb#ch0000011vscode-remote?line=0'>1</a>\u001b[0m a \u001b[39m=\u001b[39m [\u001b[39m1\u001b[39m, \u001b[39m2\u001b[39m, \u001b[39m3\u001b[39m]\n\u001b[0;32m----> <a href='vscode-notebook-cell://ssh-remote%2Bncia.snu.ac.kr/home/kookies371/workspace/torch_show_attend_and_tell/test.ipynb#ch0000011vscode-remote?line=2'>3</a>\u001b[0m b \u001b[39m=\u001b[39m \u001b[39mlist\u001b[39;49m(\n\u001b[1;32m      <a href='vscode-notebook-cell://ssh-remote%2Bncia.snu.ac.kr/home/kookies371/workspace/torch_show_attend_and_tell/test.ipynb#ch0000011vscode-remote?line=3'>4</a>\u001b[0m     \u001b[39m*\u001b[39;49ma\n\u001b[1;32m      <a href='vscode-notebook-cell://ssh-remote%2Bncia.snu.ac.kr/home/kookies371/workspace/torch_show_attend_and_tell/test.ipynb#ch0000011vscode-remote?line=4'>5</a>\u001b[0m )\n\u001b[1;32m      <a href='vscode-notebook-cell://ssh-remote%2Bncia.snu.ac.kr/home/kookies371/workspace/torch_show_attend_and_tell/test.ipynb#ch0000011vscode-remote?line=6'>7</a>\u001b[0m \u001b[39mprint\u001b[39m(b)\n",
      "\u001b[0;31mTypeError\u001b[0m: list expected at most 1 argument, got 3"
     ]
    }
   ],
   "source": [
    "a = [1, 2, 3]\n",
    "\n",
    "b = list(\n",
    "    *a\n",
    ")\n",
    "\n",
    "print(b)"
   ]
  }
 ],
 "metadata": {
  "interpreter": {
   "hash": "d2e5a2fc120aea8fd8e3ca8a0be3a7cabdd6ecdbf637db27c66d81d888c5bd17"
  },
  "kernelspec": {
   "display_name": "Python 3.9.12 ('torch')",
   "language": "python",
   "name": "python3"
  },
  "language_info": {
   "codemirror_mode": {
    "name": "ipython",
    "version": 3
   },
   "file_extension": ".py",
   "mimetype": "text/x-python",
   "name": "python",
   "nbconvert_exporter": "python",
   "pygments_lexer": "ipython3",
   "version": "3.9.12"
  },
  "orig_nbformat": 4
 },
 "nbformat": 4,
 "nbformat_minor": 2
}
